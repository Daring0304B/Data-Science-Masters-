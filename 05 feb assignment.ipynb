{
 "cells": [
  {
   "cell_type": "markdown",
   "id": "b35a2a47-52bc-4e44-a9d0-78adf646299a",
   "metadata": {},
   "source": [
    "# Ans 1\n",
    "\n",
    "In object-oriented programming (OOP), classes and objects are fundamental concepts that allow you to structure and model your code in a more organized and modular way.\n",
    "\n",
    "Class:\n",
    "A class is a blueprint or a template for creating objects. It defines the properties (attributes) and behaviors (methods) that objects of that class will possess. In simpler terms, a class can be thought of as a blueprint for creating objects with specific characteristics and behaviors.\n",
    "\n",
    "Object:\n",
    "An object is an instance of a class. It's a concrete entity that is created based on the class definition. Objects encapsulate data (attributes) and the operations (methods) that can be performed on that data. Each object created from the same class has its own set of attributes, but they all share the same methods defined by the class."
   ]
  },
  {
   "cell_type": "markdown",
   "id": "85d8553c-7f14-41c5-bc57-ccf56a11a235",
   "metadata": {},
   "source": [
    "# Ans 2\n",
    "\n",
    "the names of the four pillars of OOP:\n",
    "\n",
    "1. Encapsulation\n",
    "2. Abstraction\n",
    "3. Inheritance\n",
    "4. Polymorphism"
   ]
  },
  {
   "cell_type": "code",
   "execution_count": null,
   "id": "3845b993-f0af-4ff2-ba71-fbb9e5463a4c",
   "metadata": {},
   "outputs": [],
   "source": []
  }
 ],
 "metadata": {
  "kernelspec": {
   "display_name": "Python 3 (ipykernel)",
   "language": "python",
   "name": "python3"
  },
  "language_info": {
   "codemirror_mode": {
    "name": "ipython",
    "version": 3
   },
   "file_extension": ".py",
   "mimetype": "text/x-python",
   "name": "python",
   "nbconvert_exporter": "python",
   "pygments_lexer": "ipython3",
   "version": "3.10.8"
  }
 },
 "nbformat": 4,
 "nbformat_minor": 5
}
