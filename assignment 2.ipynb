{
 "cells": [
  {
   "cell_type": "code",
   "execution_count": null,
   "id": "12f22d62-344c-44f9-ab3f-92e76f933a34",
   "metadata": {},
   "outputs": [],
   "source": [
    "#Ans 1"
   ]
  },
  {
   "cell_type": "code",
   "execution_count": 9,
   "id": "05d957c9-f72e-4529-addf-ac97c32ef314",
   "metadata": {},
   "outputs": [
    {
     "name": "stdin",
     "output_type": "stream",
     "text": [
      "Marks =  75\n"
     ]
    },
    {
     "name": "stdout",
     "output_type": "stream",
     "text": [
      "Grade C\n"
     ]
    }
   ],
   "source": [
    "Marks=int(input(\"Marks = \"))\n",
    "if Marks>90:\n",
    "    print(\"Grade A\")\n",
    "elif Marks>80 and Marks <= 90:\n",
    "        print(\"Grade B\")\n",
    "elif Marks>=60 and Marks <= 80:\n",
    "        print(\"Grade C\")\n",
    "else:\n",
    "        print(\"Grade D\")"
   ]
  },
  {
   "cell_type": "code",
   "execution_count": 7,
   "id": "6f4384c4-9dcd-4039-9435-7b77511e5d80",
   "metadata": {},
   "outputs": [],
   "source": [
    "#Ans 2"
   ]
  },
  {
   "cell_type": "code",
   "execution_count": 7,
   "id": "134b4a75-241f-4c17-ac9f-5b8827ce1386",
   "metadata": {},
   "outputs": [
    {
     "name": "stdin",
     "output_type": "stream",
     "text": [
      "Enter the price of the bike =  50000\n"
     ]
    },
    {
     "name": "stdout",
     "output_type": "stream",
     "text": [
      "Road tax = 2500.0\n"
     ]
    }
   ],
   "source": [
    "price=int(input(\"Enter the price of the bike = \"))\n",
    "if price>100000:\n",
    "    print(\"Road tax =\", price*0.15)\n",
    "elif price>50000 and price <= 100000:\n",
    "    print(\"Road tax =\", price*0.10)\n",
    "else:\n",
    "    print(\"Road tax =\", price*0.05)"
   ]
  },
  {
   "cell_type": "code",
   "execution_count": 15,
   "id": "232eff1a-65c7-46b6-a153-31ef5a14f33d",
   "metadata": {},
   "outputs": [],
   "source": [
    "#Ans 3"
   ]
  },
  {
   "cell_type": "code",
   "execution_count": 5,
   "id": "5dd76420-c59d-4fb6-ae6c-caf7e14c1dc1",
   "metadata": {},
   "outputs": [
    {
     "name": "stdin",
     "output_type": "stream",
     "text": [
      "Enter the name of the City =  Delhi\n"
     ]
    },
    {
     "name": "stdout",
     "output_type": "stream",
     "text": [
      "Red Fort\n"
     ]
    }
   ],
   "source": [
    "City=str(input(\"Enter the name of the City = \"))\n",
    "if City==\"Delhi\":\n",
    "    print(\"Red Fort\")\n",
    "elif City==\"Agra\":\n",
    "    print(\"Tajmahal\")\n",
    "elif City ==\"Jaipur\":\n",
    "    print(\"Jal Mahal\")\n",
    "else:\n",
    "    print(\"Unfortunately we have no data about the city you have entered\")"
   ]
  },
  {
   "cell_type": "code",
   "execution_count": null,
   "id": "7f0d0f20-1843-4b88-a2f0-1de6f8328e93",
   "metadata": {},
   "outputs": [],
   "source": [
    "#Ans 4"
   ]
  },
  {
   "cell_type": "code",
   "execution_count": 18,
   "id": "46f4783d-60b2-4a4c-be84-fe852e83add0",
   "metadata": {},
   "outputs": [
    {
     "name": "stdin",
     "output_type": "stream",
     "text": [
      "Enter the number =  9\n"
     ]
    },
    {
     "name": "stdout",
     "output_type": "stream",
     "text": [
      "The number can divided by 3 by =  3.0\n"
     ]
    }
   ],
   "source": [
    "x=int(input(\"Enter the number = \"))\n",
    "if x<10:\n",
    "    x%3==0\n",
    "    print(\"The number can divided by 3 by = \",x/3)\n",
    "elif x>=10:\n",
    "    print(\"Please Enter the number less than 10\")\n",
    "else:\n",
    "    print(\"Given number is not divsible by 3\")"
   ]
  },
  {
   "cell_type": "code",
   "execution_count": 19,
   "id": "1658d2c8-6683-4f8c-b4cb-df0c69c02e11",
   "metadata": {},
   "outputs": [],
   "source": [
    "#Ans 5"
   ]
  },
  {
   "cell_type": "markdown",
   "id": "c85bc499-96e9-4d1d-b27b-330c996c3570",
   "metadata": {},
   "source": [
    "Loops in Python are control structures that allow you to execute a block of code repeatedly. They are essential for automating repetitive tasks and processing sequences of data. Python offers two main types of loops: `for` loops and `while` loops. Let's explore when and why to use each type of loop, along with detailed explanations:\n",
    "\n",
    "**1. `for` Loops:**\n",
    "A `for` loop is used when you know the number of times you want to execute a code block. It's particularly useful for iterating over sequences like lists, tuples, strings, and even dictionaries.\n",
    "\n",
    "**Use Cases:**\n",
    "   - **Iterating over sequences:** You can loop through each element of a sequence, performing a specific action on each item. For example, you can calculate the sum of all numbers in a list or process each character in a string.\n",
    "\n",
    "   - **Range-based operations:** You can generate a sequence of numbers using the `range()` function and iterate over them using a `for` loop. This is often used for performing actions a specific number of times.\n",
    "\n",
    "   - **Processing dictionary items:** You can iterate through the keys or values of a dictionary, performing operations on the data stored in it.\n",
    "\n",
    "**Example:**\n",
    "```python\n",
    "numbers = [1, 2, 3, 4, 5]\n",
    "sum = 0\n",
    "for num in numbers:\n",
    "    sum += num\n",
    "print(\"Sum:\", sum)\n",
    "```\n",
    "\n",
    "**2. `while` Loops:**\n",
    "A `while` loop is used when you want to repeatedly execute a code block as long as a certain condition remains true. This type of loop is useful when you don't know the exact number of iterations beforehand.\n",
    "\n",
    "**Use Cases:**\n",
    "   - **Looping with conditions:** You can repeatedly execute code until a specific condition is no longer met. This is useful for scenarios where you're waiting for certain conditions to change.\n",
    "\n",
    "   - **User interactions:** You can create interactive programs that keep prompting the user for input until a specific exit condition is provided.\n",
    "\n",
    "   - **Complex convergence scenarios:** Certain algorithms require iteration until they converge to a solution. `while` loops are suitable for these situations.\n",
    "\n",
    "**Example:**\n",
    "```python\n",
    "total = 0\n",
    "while total < 10:\n",
    "    num = int(input(\"Enter a number: \"))\n",
    "    total += num\n",
    "print(\"Total:\", total)\n",
    "```\n",
    "\n",
    "**When to Use Loops:**\n",
    "   - **Repetition:** Whenever you need to perform a task multiple times, loops are the right choice to avoid code duplication and improve maintainability.\n",
    "\n",
    "   - **Iterating over collections:** When you want to process each element in a collection, like a list or a dictionary, `for` loops simplify the task.\n",
    "\n",
    "   - **Dynamic scenarios:** When you need to keep doing something until a certain condition is met or until a user decides to exit, `while` loops are suitable.\n",
    "\n",
    "**Remember:**\n",
    "   - Be cautious of infinite loops. Always ensure that the loop condition will eventually become `False` to avoid locking up your program.\n",
    "\n",
    "   - Python's built-in functions like `break` and `continue` can be used to control the flow within loops.\n",
    "\n",
    "In summary, loops in Python are fundamental tools for automating repetitive tasks and iterating over data. `for` loops are great for known iterations, while `while` loops are useful for scenarios where the number of iterations isn't known beforehand. Using loops effectively can significantly enhance the efficiency and functionality of your programs."
   ]
  },
  {
   "cell_type": "code",
   "execution_count": 20,
   "id": "7b78dcee-52de-450d-9340-041201f70c0b",
   "metadata": {},
   "outputs": [],
   "source": [
    "#Ans 6"
   ]
  },
  {
   "cell_type": "code",
   "execution_count": 26,
   "id": "cf2a9cec-a339-431e-a03d-663df5e40b58",
   "metadata": {},
   "outputs": [
    {
     "name": "stdin",
     "output_type": "stream",
     "text": [
      "Enter the number = 45\n"
     ]
    },
    {
     "name": "stdout",
     "output_type": "stream",
     "text": [
      "* \n",
      "* * \n",
      "* * * \n",
      "* * * * \n",
      "* * * * * \n",
      "* * * * * * \n",
      "* * * * * * * \n",
      "* * * * * * * * \n",
      "* * * * * * * * * \n",
      "* * * * * * * * * * \n",
      "* * * * * * * * * * * \n",
      "* * * * * * * * * * * * \n",
      "* * * * * * * * * * * * * \n",
      "* * * * * * * * * * * * * * \n",
      "* * * * * * * * * * * * * * * \n",
      "* * * * * * * * * * * * * * * * \n",
      "* * * * * * * * * * * * * * * * * \n",
      "* * * * * * * * * * * * * * * * * * \n",
      "* * * * * * * * * * * * * * * * * * * \n",
      "* * * * * * * * * * * * * * * * * * * * \n",
      "* * * * * * * * * * * * * * * * * * * * * \n",
      "* * * * * * * * * * * * * * * * * * * * * * \n",
      "* * * * * * * * * * * * * * * * * * * * * * * \n",
      "* * * * * * * * * * * * * * * * * * * * * * * * \n",
      "* * * * * * * * * * * * * * * * * * * * * * * * * \n",
      "* * * * * * * * * * * * * * * * * * * * * * * * * * \n",
      "* * * * * * * * * * * * * * * * * * * * * * * * * * * \n",
      "* * * * * * * * * * * * * * * * * * * * * * * * * * * * \n",
      "* * * * * * * * * * * * * * * * * * * * * * * * * * * * * \n",
      "* * * * * * * * * * * * * * * * * * * * * * * * * * * * * * \n",
      "* * * * * * * * * * * * * * * * * * * * * * * * * * * * * * * \n",
      "* * * * * * * * * * * * * * * * * * * * * * * * * * * * * * * * \n",
      "* * * * * * * * * * * * * * * * * * * * * * * * * * * * * * * * * \n",
      "* * * * * * * * * * * * * * * * * * * * * * * * * * * * * * * * * * \n",
      "* * * * * * * * * * * * * * * * * * * * * * * * * * * * * * * * * * * \n",
      "* * * * * * * * * * * * * * * * * * * * * * * * * * * * * * * * * * * * \n",
      "* * * * * * * * * * * * * * * * * * * * * * * * * * * * * * * * * * * * * \n",
      "* * * * * * * * * * * * * * * * * * * * * * * * * * * * * * * * * * * * * * \n",
      "* * * * * * * * * * * * * * * * * * * * * * * * * * * * * * * * * * * * * * * \n",
      "* * * * * * * * * * * * * * * * * * * * * * * * * * * * * * * * * * * * * * * * \n",
      "* * * * * * * * * * * * * * * * * * * * * * * * * * * * * * * * * * * * * * * * * \n",
      "* * * * * * * * * * * * * * * * * * * * * * * * * * * * * * * * * * * * * * * * * * \n",
      "* * * * * * * * * * * * * * * * * * * * * * * * * * * * * * * * * * * * * * * * * * * \n",
      "* * * * * * * * * * * * * * * * * * * * * * * * * * * * * * * * * * * * * * * * * * * * \n",
      "* * * * * * * * * * * * * * * * * * * * * * * * * * * * * * * * * * * * * * * * * * * * * \n"
     ]
    }
   ],
   "source": [
    "#first Pattern\n",
    "#Right triangle\n",
    "n=int(input(\"Enter the number =\"))\n",
    "i = 1\n",
    "\n",
    "while i <= n:\n",
    "    j = 1\n",
    "    while j <= i:\n",
    "        print(\"*\", end=\" \")\n",
    "        j += 1\n",
    "    print()\n",
    "    i += 1\n"
   ]
  },
  {
   "cell_type": "code",
   "execution_count": 27,
   "id": "ec505aef-4455-43a9-931b-5eb64e85b831",
   "metadata": {},
   "outputs": [
    {
     "name": "stdin",
     "output_type": "stream",
     "text": [
      "Enter the number = 10\n"
     ]
    },
    {
     "name": "stdout",
     "output_type": "stream",
     "text": [
      "* * * * * * * * * * \n",
      "*                 * \n",
      "*                 * \n",
      "*                 * \n",
      "*                 * \n",
      "*                 * \n",
      "*                 * \n",
      "*                 * \n",
      "*                 * \n",
      "* * * * * * * * * * \n"
     ]
    }
   ],
   "source": [
    "# Square\n",
    "n=int(input(\"Enter the number =\"))\n",
    "i = 1\n",
    "\n",
    "while i <= n:\n",
    "    j = 1\n",
    "    while j <= n:\n",
    "        if i == 1 or i == n or j == 1 or j == n:\n",
    "            print(\"*\", end=\" \")\n",
    "        else:\n",
    "            print(\" \", end=\" \")\n",
    "        j += 1\n",
    "    print()\n",
    "    i += 1\n"
   ]
  },
  {
   "cell_type": "code",
   "execution_count": 29,
   "id": "d86f680a-3b0d-4963-a6f3-0a8182dbfb6c",
   "metadata": {},
   "outputs": [
    {
     "name": "stdin",
     "output_type": "stream",
     "text": [
      "Enter the number = 10\n"
     ]
    },
    {
     "name": "stdout",
     "output_type": "stream",
     "text": [
      "                  * \n",
      "                * * * \n",
      "              * * * * * \n",
      "            * * * * * * * \n",
      "          * * * * * * * * * \n",
      "        * * * * * * * * * * * \n",
      "      * * * * * * * * * * * * * \n",
      "    * * * * * * * * * * * * * * * \n",
      "  * * * * * * * * * * * * * * * * * \n",
      "* * * * * * * * * * * * * * * * * * * \n"
     ]
    }
   ],
   "source": [
    "n = int(input(\"Enter the number =\"))\n",
    "i = 1\n",
    "\n",
    "while i <= n:\n",
    "    # Print spaces\n",
    "    j = 1\n",
    "    while j <= n - i:\n",
    "        print(\" \", end=\" \")\n",
    "        j += 1\n",
    "    \n",
    "    # Print asterisks\n",
    "    j = 1\n",
    "    while j <= 2 * i - 1:\n",
    "        print(\"*\", end=\" \")\n",
    "        j += 1\n",
    "    \n",
    "    print()\n",
    "    i += 1\n"
   ]
  },
  {
   "cell_type": "code",
   "execution_count": 1,
   "id": "70dcf003-e86b-456b-8807-36367604c6bb",
   "metadata": {},
   "outputs": [
    {
     "name": "stdout",
     "output_type": "stream",
     "text": [
      "10\n",
      "9\n",
      "8\n",
      "7\n",
      "6\n",
      "5\n",
      "4\n",
      "3\n",
      "2\n",
      "1\n"
     ]
    }
   ],
   "source": [
    "num = 10\n",
    "while num >= 1:\n",
    "    print(num)\n",
    "    num -= 1"
   ]
  },
  {
   "cell_type": "code",
   "execution_count": null,
   "id": "bc2cea1d-fc96-4ce6-88c0-4fbe64e4a40c",
   "metadata": {},
   "outputs": [],
   "source": []
  }
 ],
 "metadata": {
  "kernelspec": {
   "display_name": "Python 3 (ipykernel)",
   "language": "python",
   "name": "python3"
  },
  "language_info": {
   "codemirror_mode": {
    "name": "ipython",
    "version": 3
   },
   "file_extension": ".py",
   "mimetype": "text/x-python",
   "name": "python",
   "nbconvert_exporter": "python",
   "pygments_lexer": "ipython3",
   "version": "3.10.8"
  }
 },
 "nbformat": 4,
 "nbformat_minor": 5
}
