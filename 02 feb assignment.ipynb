{
 "cells": [
  {
   "cell_type": "markdown",
   "id": "cd11419d-db5c-4567-b0fd-c0695262e025",
   "metadata": {},
   "source": [
    "#Ans 1. "
   ]
  },
  {
   "cell_type": "markdown",
   "id": "a6cfcad7-d168-484d-8d94-07bc121b6d81",
   "metadata": {},
   "source": [
    "Tuples are ordered collections of different elements. They're immutable, meaning their contents can't be changed after creation. They're often used for grouping related data."
   ]
  },
  {
   "cell_type": "markdown",
   "id": "57f63a57-e925-4578-8162-e3066b66222f",
   "metadata": {},
   "source": [
    "Tuples have the following characteristics:\n",
    "\n",
    "1. **Ordered:** The elements in a tuple have a specific order.\n",
    "\n",
    "2. **Heterogeneous Elements:** Tuples can contain different types of elements.\n",
    "\n",
    "3. **Indexed Access:** Elements can be accessed using indices.\n",
    "\n",
    "4. **Immutable:** Once created, tuples cannot be modified.\n",
    "\n",
    "5. **Hashable:** Tuples can be used as keys in dictionaries and elements in sets.\n",
    "\n",
    "6. **Syntax:** Tuples are defined using parentheses and commas."
   ]
  },
  {
   "cell_type": "markdown",
   "id": "9328c081-9fdb-407a-85ba-6d45daa727d6",
   "metadata": {},
   "source": [
    "Ans. 2.\n",
    "\n",
    "In Python, tuples have two built-in methods:\n",
    "\n",
    "1. `count()` Method: This method is used to count the number of occurrences of a specified element in a tuple.\n",
    "\n",
    "   Example:\n",
    "   ```python\n",
    "   my_tuple = (1, 2, 2, 3, 4, 2)\n",
    "   count_of_2 = my_tuple.count(2)\n",
    "   print(count_of_2)  # Output: 3\n",
    "   ```\n",
    "\n",
    "2. `index()` Method: This method is used to find the index of the first occurrence of a specified element in a tuple.\n",
    "\n",
    "   Example:\n",
    "   ```python\n",
    "   my_tuple = (10, 20, 30, 40, 20)\n",
    "   index_of_20 = my_tuple.index(20)\n",
    "   print(index_of_20)  # Output: 1\n",
    "   ```\n",
    "\n",
    "The reason tuples have only these two built-in methods as compared to lists is due to their immutability. Tuples are designed to be unchangeable after creation. Adding methods that allow modifications or extensive manipulation of the data within a tuple would contradict their core nature. Lists, on the other hand, are mutable and designed for more dynamic operations, which is why they have a larger number of built-in methods for adding, removing, and modifying elements."
   ]
  },
  {
   "cell_type": "markdown",
   "id": "a8890262-a668-4248-89da-cbc35d99849d",
   "metadata": {},
   "source": [
    "Ans 3.\n",
    "\n",
    "In Python, the collection data type that does not allow duplicate items is the **set**. Here's how you can use a set to remove duplicates from the given list:\n",
    "\n",
    "```python\n",
    "original_list = [1, 1, 1, 2, 1, 3, 1, 4, 2, 1, 2, 2, 2, 3, 2, 4, 3, 1, 3, 2, 3, 3, 3, 4, 4, 1, 4, 2, 4, 3, 4, 4]\n",
    "\n",
    "# Convert the list to a set to remove duplicates\n",
    "unique_elements = set(original_list)\n",
    "\n",
    "# Convert the set back to a list\n",
    "new_list_without_duplicates = list(unique_elements)\n",
    "\n",
    "print(new_list_without_duplicates)\n",
    "```\n",
    "\n",
    "When you run this code, you'll get the following output, which is the original list with duplicates removed:\n",
    "\n",
    "```\n",
    "[1, 2, 3, 4]\n",
    "```"
   ]
  },
  {
   "cell_type": "markdown",
   "id": "9a059e66-9370-4a1c-a712-bbf66325f6e0",
   "metadata": {},
   "source": [
    "Ans. 4. \n",
    "\n",
    "Both `union()` and `update()` are methods used with sets in Python, but they have different purposes and behaviors:\n",
    "\n",
    "1. **`union()` Method:**\n",
    "   - The `union()` method returns a new set that contains all the unique elements from both the calling set and another set (or any iterable).\n",
    "   - It does not modify the original sets; it creates a new set with the combined elements.\n",
    "   \n",
    "   Example:\n",
    "   ```python\n",
    "   set1 = {1, 2, 3}\n",
    "   set2 = {3, 4, 5}\n",
    "   \n",
    "   result = set1.union(set2)\n",
    "   print(result)  # Output: {1, 2, 3, 4, 5}\n",
    "   ```\n",
    "\n",
    "2. **`update()` Method:**\n",
    "   - The `update()` method updates the calling set by adding all the unique elements from another set (or any iterable) to it.\n",
    "   - It modifies the set in place and does not return a new set.\n",
    "   \n",
    "   Example:\n",
    "   ```python\n",
    "   set1 = {1, 2, 3}\n",
    "   set2 = {3, 4, 5}\n",
    "   \n",
    "   set1.update(set2)\n",
    "   print(set1)  # Output: {1, 2, 3, 4, 5}\n",
    "   ```\n"
   ]
  },
  {
   "cell_type": "markdown",
   "id": "06f62c1e-d3db-4eb0-b0d2-37b8522a1519",
   "metadata": {},
   "source": [
    "Ans. 5.\n",
    "\n",
    "A dictionary in Python is a collection data type that stores key-value pairs. Each key in a dictionary is unique and maps to a specific value. Dictionaries are used to store and retrieve data using these key-value associations.\n",
    "\n",
    "Here's an example of a dictionary:\n",
    "\n",
    "```python\n",
    "student_info = {\n",
    "    \"name\": \"John Doe\",\n",
    "    \"age\": 20,\n",
    "    \"major\": \"Computer Science\",\n",
    "    \"gpa\": 3.8\n",
    "}\n",
    "```\n",
    "\n",
    "In this example, the keys are `\"name\"`, `\"age\"`, `\"major\"`, and `\"gpa\"`, while the corresponding values are `\"John Doe\"`, `20`, `\"Computer Science\"`, and `3.8`.\n",
    "\n",
    "**Ordering in Dictionaries:**\n",
    "Starting from Python 3.7, dictionaries are guaranteed to maintain the insertion order of their items. This means that if you iterate through a dictionary, the items will be returned in the same order as they were inserted. This feature was later incorporated in Python 3.8 as part of the language specification, making it consistent behavior across all Python 3.7+ implementations."
   ]
  },
  {
   "cell_type": "markdown",
   "id": "a2e03c06-a147-4daa-9229-6f46cb089271",
   "metadata": {},
   "source": [
    "Ans. 6\n",
    "\n",
    "# Creating a one-level nested dictionary\n",
    "employee = {\n",
    "    \"id\": 101,\n",
    "    \"name\": \"Alice\",\n",
    "    \"info\": {\n",
    "        \"position\": \"Manager\",\n",
    "        \"department\": \"HR\",\n",
    "        \"experience_years\": 5\n",
    "    }\n",
    "}\n",
    "\n",
    "# Accessing values in the nested dictionary\n",
    "employee_name = employee[\"name\"]\n",
    "employee_department = employee[\"info\"][\"department\"]\n",
    "\n",
    "print(employee_name)          # Output: Alice\n",
    "print(employee_department)    # Output: HR\n"
   ]
  },
  {
   "cell_type": "markdown",
   "id": "b616cefd-47f4-4e82-b446-63a216a2541f",
   "metadata": {},
   "source": [
    "# Ans7"
   ]
  },
  {
   "cell_type": "code",
   "execution_count": 4,
   "id": "2f54b46a-3cdd-44e0-a756-f304a04f0133",
   "metadata": {},
   "outputs": [
    {
     "name": "stdout",
     "output_type": "stream",
     "text": [
      "{'language': 'Python', 'course': 'Data Science Masters', 'topics': ['Python', 'Machine Learning', 'Deep Learning']}\n"
     ]
    }
   ],
   "source": [
    "dict1 = {'language': 'Python', 'course': 'Data Science Masters'}\n",
    "\n",
    "# Using setdefault() to add a key and its value if the key doesn't exist\n",
    "dict1.setdefault(\"topics\", ['Python', 'Machine Learning', 'Deep Learning'])\n",
    "\n",
    "print(dict1)\n"
   ]
  },
  {
   "cell_type": "markdown",
   "id": "a1d43082-a333-40b1-b8e5-b05194aa6e60",
   "metadata": {
    "tags": []
   },
   "source": [
    "# Ans 8"
   ]
  },
  {
   "cell_type": "code",
   "execution_count": null,
   "id": "7470f579-f114-43f7-89fb-f96cb4d4758d",
   "metadata": {},
   "outputs": [],
   "source": []
  }
 ],
 "metadata": {
  "kernelspec": {
   "display_name": "Python 3 (ipykernel)",
   "language": "python",
   "name": "python3"
  },
  "language_info": {
   "codemirror_mode": {
    "name": "ipython",
    "version": 3
   },
   "file_extension": ".py",
   "mimetype": "text/x-python",
   "name": "python",
   "nbconvert_exporter": "python",
   "pygments_lexer": "ipython3",
   "version": "3.10.8"
  }
 },
 "nbformat": 4,
 "nbformat_minor": 5
}
